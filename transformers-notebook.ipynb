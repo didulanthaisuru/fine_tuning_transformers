{
 "cells": [
  {
   "cell_type": "code",
   "execution_count": 1,
   "id": "fa919959",
   "metadata": {
    "_cell_guid": "b1076dfc-b9ad-4769-8c92-a6c4dae69d19",
    "_uuid": "8f2839f25d086af736a60e9eeb907d3b93b6e0e5",
    "execution": {
     "iopub.execute_input": "2025-10-04T19:34:58.565194Z",
     "iopub.status.busy": "2025-10-04T19:34:58.564821Z",
     "iopub.status.idle": "2025-10-04T19:35:00.819143Z",
     "shell.execute_reply": "2025-10-04T19:35:00.817956Z"
    },
    "papermill": {
     "duration": 2.260409,
     "end_time": "2025-10-04T19:35:00.821351",
     "exception": false,
     "start_time": "2025-10-04T19:34:58.560942",
     "status": "completed"
    },
    "tags": []
   },
   "outputs": [],
   "source": [
    "# This Python 3 environment comes with many helpful analytics libraries installed\n",
    "# It is defined by the kaggle/python Docker image: https://github.com/kaggle/docker-python\n",
    "# For example, here's several helpful packages to load\n",
    "\n",
    "import numpy as np # linear algebra\n",
    "import pandas as pd # data processing, CSV file I/O (e.g. pd.read_csv)\n",
    "\n",
    "# Input data files are available in the read-only \"../input/\" directory\n",
    "# For example, running this (by clicking run or pressing Shift+Enter) will list all files under the input directory\n",
    "\n",
    "import os\n",
    "for dirname, _, filenames in os.walk('/kaggle/input'):\n",
    "    for filename in filenames:\n",
    "        print(os.path.join(dirname, filename))\n",
    "\n",
    "# You can write up to 20GB to the current directory (/kaggle/working/) that gets preserved as output when you create a version using \"Save & Run All\" \n",
    "# You can also write temporary files to /kaggle/temp/, but they won't be saved outside of the current session"
   ]
  },
  {
   "cell_type": "code",
   "execution_count": 2,
   "id": "00649bb3",
   "metadata": {
    "execution": {
     "iopub.execute_input": "2025-10-04T19:35:00.827323Z",
     "iopub.status.busy": "2025-10-04T19:35:00.826841Z",
     "iopub.status.idle": "2025-10-04T19:35:01.925233Z",
     "shell.execute_reply": "2025-10-04T19:35:01.923769Z"
    },
    "papermill": {
     "duration": 1.103273,
     "end_time": "2025-10-04T19:35:01.927205",
     "exception": false,
     "start_time": "2025-10-04T19:35:00.823932",
     "status": "completed"
    },
    "tags": []
   },
   "outputs": [
    {
     "name": "stdout",
     "output_type": "stream",
     "text": [
      "Cloning into 'fine_tuning_transformers'...\r\n",
      "remote: Enumerating objects: 3, done.\u001b[K\r\n",
      "remote: Counting objects: 100% (3/3), done.\u001b[K\r\n",
      "remote: Total 3 (delta 0), reused 3 (delta 0), pack-reused 0 (from 0)\u001b[K\r\n",
      "Receiving objects: 100% (3/3), done.\r\n",
      "/kaggle/working/fine_tuning_transformers\n"
     ]
    }
   ],
   "source": [
    "from kaggle_secrets import UserSecretsClient\n",
    "import os\n",
    "\n",
    "# Load GitHub token from Kaggle Secrets\n",
    "token = UserSecretsClient().get_secret(\"GITHUB_TOKEN\")\n",
    "\n",
    "# Git configuration\n",
    "!git config --global user.name \"didulanthaisuru\"\n",
    "!git config --global user.email \"didulanthapki.22@uom.lk\"\n",
    "\n",
    "# Clone repo if it doesn't exist\n",
    "repo_name = \"fine_tuning_transformers\"\n",
    "if not os.path.exists(repo_name):\n",
    "    !git clone https://{token}@github.com/didulanthaisuru/{repo_name}.git\n",
    "\n",
    "# Move into repo folder\n",
    "%cd {repo_name}\n"
   ]
  },
  {
   "cell_type": "code",
   "execution_count": null,
   "id": "054466d7",
   "metadata": {
    "papermill": {
     "duration": 0.001474,
     "end_time": "2025-10-04T19:35:01.930584",
     "exception": false,
     "start_time": "2025-10-04T19:35:01.929110",
     "status": "completed"
    },
    "tags": []
   },
   "outputs": [],
   "source": []
  }
 ],
 "metadata": {
  "kaggle": {
   "accelerator": "none",
   "dataSources": [],
   "dockerImageVersionId": 31089,
   "isGpuEnabled": false,
   "isInternetEnabled": true,
   "language": "python",
   "sourceType": "notebook"
  },
  "kernelspec": {
   "display_name": "Python 3",
   "language": "python",
   "name": "python3"
  },
  "language_info": {
   "codemirror_mode": {
    "name": "ipython",
    "version": 3
   },
   "file_extension": ".py",
   "mimetype": "text/x-python",
   "name": "python",
   "nbconvert_exporter": "python",
   "pygments_lexer": "ipython3",
   "version": "3.11.13"
  },
  "papermill": {
   "default_parameters": {},
   "duration": 11.00443,
   "end_time": "2025-10-04T19:35:02.552988",
   "environment_variables": {},
   "exception": null,
   "input_path": "__notebook__.ipynb",
   "output_path": "__notebook__.ipynb",
   "parameters": {},
   "start_time": "2025-10-04T19:34:51.548558",
   "version": "2.6.0"
  }
 },
 "nbformat": 4,
 "nbformat_minor": 5
}
